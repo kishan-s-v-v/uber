{
  "nbformat": 4,
  "nbformat_minor": 0,
  "metadata": {
    "colab": {
      "provenance": [],
      "toc_visible": true
    },
    "kernelspec": {
      "name": "python3",
      "display_name": "Python 3"
    },
    "language_info": {
      "name": "python"
    }
  },
  "cells": [
    {
      "cell_type": "code",
      "source": [
        "!pip install meteostat"
      ],
      "metadata": {
        "colab": {
          "base_uri": "https://localhost:8080/"
        },
        "id": "Mzk-EDTA6aXS",
        "outputId": "beebeca5-effe-40bc-8f01-b6f884861761"
      },
      "execution_count": null,
      "outputs": [
        {
          "output_type": "stream",
          "name": "stdout",
          "text": [
            "Requirement already satisfied: meteostat in /usr/local/lib/python3.12/dist-packages (1.7.6)\n",
            "Requirement already satisfied: pandas>=2 in /usr/local/lib/python3.12/dist-packages (from meteostat) (2.2.2)\n",
            "Requirement already satisfied: pytz in /usr/local/lib/python3.12/dist-packages (from meteostat) (2025.2)\n",
            "Requirement already satisfied: numpy in /usr/local/lib/python3.12/dist-packages (from meteostat) (2.0.2)\n",
            "Requirement already satisfied: python-dateutil>=2.8.2 in /usr/local/lib/python3.12/dist-packages (from pandas>=2->meteostat) (2.9.0.post0)\n",
            "Requirement already satisfied: tzdata>=2022.7 in /usr/local/lib/python3.12/dist-packages (from pandas>=2->meteostat) (2025.2)\n",
            "Requirement already satisfied: six>=1.5 in /usr/local/lib/python3.12/dist-packages (from python-dateutil>=2.8.2->pandas>=2->meteostat) (1.17.0)\n"
          ]
        }
      ]
    },
    {
      "cell_type": "code",
      "source": [
        "# STEP 1: Import Required Libraries\n",
        "import pandas as pd\n",
        "import numpy as np\n",
        "from sklearn.preprocessing import MinMaxScaler, StandardScaler\n",
        "from sklearn.ensemble import RandomForestRegressor\n",
        "import seaborn as sns\n",
        "import matplotlib.pyplot as plt\n",
        "import os\n",
        "from meteostat import Point, Hourly\n",
        "from datetime import datetime, timedelta"
      ],
      "metadata": {
        "id": "dTYIKJ_OmK1X"
      },
      "execution_count": null,
      "outputs": []
    },
    {
      "cell_type": "code",
      "source": [
        "# STEP 2: Data Cleaning & Preprocessing\n",
        "data = pd.read_csv(\"Dataset_Uber Traffic.csv\")\n",
        "print(\"Missing Values Before Cleaning:\\n\", data.isnull().sum())"
      ],
      "metadata": {
        "colab": {
          "base_uri": "https://localhost:8080/"
        },
        "id": "XX9FgSecn3dh",
        "outputId": "9959c72e-b1d9-4e5a-9729-c082d1359960"
      },
      "execution_count": null,
      "outputs": [
        {
          "output_type": "stream",
          "name": "stdout",
          "text": [
            "Missing Values Before Cleaning:\n",
            " DateTime    0\n",
            "Junction    0\n",
            "Vehicles    0\n",
            "ID          0\n",
            "dtype: int64\n"
          ]
        }
      ]
    },
    {
      "cell_type": "code",
      "source": [
        "data = data.drop_duplicates()"
      ],
      "metadata": {
        "id": "kO_p6w78n5-z"
      },
      "execution_count": null,
      "outputs": []
    },
    {
      "cell_type": "code",
      "source": [
        "data['DateTime'] = pd.to_datetime(data['DateTime'], format='%d/%m/%y %H:%M')"
      ],
      "metadata": {
        "id": "KM_9aEg-n-f4"
      },
      "execution_count": null,
      "outputs": []
    },
    {
      "cell_type": "code",
      "source": [
        "data['Vehicles'] = data['Vehicles'].fillna(data['Vehicles'].mean())"
      ],
      "metadata": {
        "id": "sZjHggQIoAQH"
      },
      "execution_count": null,
      "outputs": []
    },
    {
      "cell_type": "code",
      "source": [
        "data_aggregated = (\n",
        "    data.groupby(['Junction', pd.Grouper(key='DateTime', freq='h')])['Vehicles']\n",
        "    .sum()\n",
        "    .reset_index()\n",
        ")"
      ],
      "metadata": {
        "id": "BVVkeEJ0oAMh"
      },
      "execution_count": null,
      "outputs": []
    },
    {
      "cell_type": "code",
      "source": [
        "scaler = MinMaxScaler()\n",
        "data_aggregated['Vehicles_Normalized'] = scaler.fit_transform(data_aggregated[['Vehicles']])"
      ],
      "metadata": {
        "id": "SZfxC1UWoAJZ"
      },
      "execution_count": null,
      "outputs": []
    },
    {
      "cell_type": "code",
      "source": [
        "data_aggregated.to_csv(\"Cleaned_Uber_Traffic.csv\", index=False)\n",
        "print(\"Data Cleaning & Preprocessing Completed!\\n\")\n",
        "print(data_aggregated.head())"
      ],
      "metadata": {
        "colab": {
          "base_uri": "https://localhost:8080/"
        },
        "id": "TR8UbZisoAGZ",
        "outputId": "382cc925-905b-41d2-e59a-670ba8e1ffa3"
      },
      "execution_count": null,
      "outputs": [
        {
          "output_type": "stream",
          "name": "stdout",
          "text": [
            "Data Cleaning & Preprocessing Completed!\n",
            "\n",
            "   Junction            DateTime  Vehicles  Vehicles_Normalized\n",
            "0         1 2015-11-01 00:00:00        15             0.078212\n",
            "1         1 2015-11-01 01:00:00        13             0.067039\n",
            "2         1 2015-11-01 02:00:00        10             0.050279\n",
            "3         1 2015-11-01 03:00:00         7             0.033520\n",
            "4         1 2015-11-01 04:00:00         9             0.044693\n"
          ]
        }
      ]
    },
    {
      "cell_type": "code",
      "source": [
        "# STEP 3: Feature Engineering & Selection\n",
        "data = pd.read_csv(\"Cleaned_Uber_Traffic.csv\")\n",
        "data['DateTime'] = pd.to_datetime(data['DateTime'])"
      ],
      "metadata": {
        "id": "aEovFlkan_-P"
      },
      "execution_count": null,
      "outputs": []
    },
    {
      "cell_type": "code",
      "source": [
        "data['Hour'] = data['DateTime'].dt.hour\n",
        "data['Day'] = data['DateTime'].dt.day\n",
        "data['DayOfWeek'] = data['DateTime'].dt.dayofweek\n",
        "data['Month'] = data['DateTime'].dt.month\n",
        "data['IsWeekend'] = data['DayOfWeek'].isin([5, 6]).astype(int)"
      ],
      "metadata": {
        "id": "wpgs2jsVn_uQ"
      },
      "execution_count": null,
      "outputs": []
    },
    {
      "cell_type": "code",
      "source": [
        "data = data.sort_values(['Junction', 'DateTime'])\n",
        "for lag in [1, 2, 3]:\n",
        "    data[f'Vehicles_Lag_{lag}'] = data.groupby('Junction')['Vehicles'].shift(lag)"
      ],
      "metadata": {
        "id": "7k3gTOy1n_SC"
      },
      "execution_count": null,
      "outputs": []
    },
    {
      "cell_type": "code",
      "source": [
        "data = data.dropna().reset_index(drop=True)"
      ],
      "metadata": {
        "id": "Si1HiEaUomZ7"
      },
      "execution_count": null,
      "outputs": []
    },
    {
      "cell_type": "code",
      "source": [
        "corr_matrix = data[['Vehicles', 'Hour', 'DayOfWeek', 'Month', 'IsWeekend',\n",
        "                    'Vehicles_Lag_1', 'Vehicles_Lag_2', 'Vehicles_Lag_3']].corr()\n",
        "\n",
        "plt.figure(figsize=(8, 6))\n",
        "sns.heatmap(corr_matrix, annot=True, cmap=\"coolwarm\", fmt=\".2f\")\n",
        "plt.title(\"Feature Correlation Matrix\")\n",
        "plt.show()"
      ],
      "metadata": {
        "colab": {
          "base_uri": "https://localhost:8080/",
          "height": 635
        },
        "id": "6qNQoAAZomWk",
        "outputId": "8b4038be-e20c-4082-a3b5-b763b37ce86d"
      },
      "execution_count": null,
      "outputs": [
        {
          "output_type": "display_data",
          "data": {
            "text/plain": [
              "<Figure size 800x600 with 2 Axes>"
            ],
            "image/png": "[encoded data removed]"
          },
          "metadata": {}
        }
      ]
    },
    {
      "cell_type": "code",
      "source": [
        "X = data[['Hour', 'DayOfWeek', 'Month', 'IsWeekend',\n",
        "          'Vehicles_Lag_1', 'Vehicles_Lag_2', 'Vehicles_Lag_3']]\n",
        "y = data['Vehicles']\n",
        "\n",
        "rf = RandomForestRegressor(random_state=42)\n",
        "rf.fit(X, y)"
      ],
      "metadata": {
        "colab": {
          "base_uri": "https://localhost:8080/",
          "height": 80
        },
        "id": "EVmi0ovDomUK",
        "outputId": "332359cb-e952-42b5-ef97-a4b97a28ab9b"
      },
      "execution_count": null,
      "outputs": [
        {
          "output_type": "execute_result",
          "data": {
            "text/plain": [
              "RandomForestRegressor(random_state=42)"
            ],
            "text/html": [
              "<style>#sk-container-id-2 {\n",
              "  /* Definition of color scheme common for light and dark mode */\n",
              "  --sklearn-color-text: #000;\n",
              "  --sklearn-color-text-muted: #666;\n",
              "  --sklearn-color-line: gray;\n",
              "  /* Definition of color scheme for unfitted estimators */\n",
              "  --sklearn-color-unfitted-level-0: #fff5e6;\n",
              "  --sklearn-color-unfitted-level-1: #f6e4d2;\n",
              "  --sklearn-color-unfitted-level-2: #ffe0b3;\n",
              "  --sklearn-color-unfitted-level-3: chocolate;\n",
              "  /* Definition of color scheme for fitted estimators */\n",
              "  --sklearn-color-fitted-level-0: #f0f8ff;\n",
              "  --sklearn-color-fitted-level-1: #d4ebff;\n",
              "  --sklearn-color-fitted-level-2: #b3dbfd;\n",
              "  --sklearn-color-fitted-level-3: cornflowerblue;\n",
              "\n",
              "  /* Specific color for light theme */\n",
              "  --sklearn-color-text-on-default-background: var(--sg-text-color, var(--theme-code-foreground, var(--jp-content-font-color1, black)));\n",
              "  --sklearn-color-background: var(--sg-background-color, var(--theme-background, var(--jp-layout-color0, white)));\n",
              "  --sklearn-color-border-box: var(--sg-text-color, var(--theme-code-foreground, var(--jp-content-font-color1, black)));\n",
              "  --sklearn-color-icon: #696969;\n",
              "\n",
              "  @media (prefers-color-scheme: dark) {\n",
              "    /* Redefinition of color scheme for dark theme */\n",
              "    --sklearn-color-text-on-default-background: var(--sg-text-color, var(--theme-code-foreground, var(--jp-content-font-color1, white)));\n",
              "    --sklearn-color-background: var(--sg-background-color, var(--theme-background, var(--jp-layout-color0, #111)));\n",
              "    --sklearn-color-border-box: var(--sg-text-color, var(--theme-code-foreground, var(--jp-content-font-color1, white)));\n",
              "    --sklearn-color-icon: #878787;\n",
              "  }\n",
              "}\n",
              "\n",
              "#sk-container-id-2 {\n",
              "  color: var(--sklearn-color-text);\n",
              "}\n",
              "\n",
              "#sk-container-id-2 pre {\n",
              "  padding: 0;\n",
              "}\n",
              "\n",
              "#sk-container-id-2 input.sk-hidden--visually {\n",
              "  border: 0;\n",
              "  clip: rect(1px 1px 1px 1px);\n",
              "  clip: rect(1px, 1px, 1px, 1px);\n",
              "  height: 1px;\n",
              "  margin: -1px;\n",
              "  overflow: hidden;\n",
              "  padding: 0;\n",
              "  position: absolute;\n",
              "  width: 1px;\n",
              "}\n",
              "\n",
              "#sk-container-id-2 div.sk-dashed-wrapped {\n",
              "  border: 1px dashed var(--sklearn-color-line);\n",
              "  margin: 0 0.4em 0.5em 0.4em;\n",
              "  box-sizing: border-box;\n",
              "  padding-bottom: 0.4em;\n",
              "  background-color: var(--sklearn-color-background);\n",
              "}\n",
              "\n",
              "#sk-container-id-2 div.sk-container {\n",
              "  /* jupyter's `normalize.less` sets `[hidden] { display: none; }`\n",
              "     but bootstrap.min.css set `[hidden] { display: none !important; }`\n",
              "     so we also need the `!important` here to be able to override the\n",
              "     default hidden behavior on the sphinx rendered scikit-learn.org.\n",
              "     See: https://github.com/scikit-learn/scikit-learn/issues/21755 */\n",
              "  display: inline-block !important;\n",
              "  position: relative;\n",
              "}\n",
              "\n",
              "#sk-container-id-2 div.sk-text-repr-fallback {\n",
              "  display: none;\n",
              "}\n",
              "\n",
              "div.sk-parallel-item,\n",
              "div.sk-serial,\n",
              "div.sk-item {\n",
              "  /* draw centered vertical line to link estimators */\n",
              "  background-image: linear-gradient(var(--sklearn-color-text-on-default-background), var(--sklearn-color-text-on-default-background));\n",
              "  background-size: 2px 100%;\n",
              "  background-repeat: no-repeat;\n",
              "  background-position: center center;\n",
              "}\n",
              "\n",
              "/* Parallel-specific style estimator block */\n",
              "\n",
              "#sk-container-id-2 div.sk-parallel-item::after {\n",
              "  content: \"\";\n",
              "  width: 100%;\n",
              "  border-bottom: 2px solid var(--sklearn-color-text-on-default-background);\n",
              "  flex-grow: 1;\n",
              "}\n",
              "\n",
              "#sk-container-id-2 div.sk-parallel {\n",
              "  display: flex;\n",
              "  align-items: stretch;\n",
              "  justify-content: center;\n",
              "  background-color: var(--sklearn-color-background);\n",
              "  position: relative;\n",
              "}\n",
              "\n",
              "#sk-container-id-2 div.sk-parallel-item {\n",
              "  display: flex;\n",
              "  flex-direction: column;\n",
              "}\n",
              "\n",
              "#sk-container-id-2 div.sk-parallel-item:first-child::after {\n",
              "  align-self: flex-end;\n",
              "  width: 50%;\n",
              "}\n",
              "\n",
              "#sk-container-id-2 div.sk-parallel-item:last-child::after {\n",
              "  align-self: flex-start;\n",
              "  width: 50%;\n",
              "}\n",
              "\n",
              "#sk-container-id-2 div.sk-parallel-item:only-child::after {\n",
              "  width: 0;\n",
              "}\n",
              "\n",
              "/* Serial-specific style estimator block */\n",
              "\n",
              "#sk-container-id-2 div.sk-serial {\n",
              "  display: flex;\n",
              "  flex-direction: column;\n",
              "  align-items: center;\n",
              "  background-color: var(--sklearn-color-background);\n",
              "  padding-right: 1em;\n",
              "  padding-left: 1em;\n",
              "}\n",
              "\n",
              "\n",
              "/* Toggleable style: style used for estimator/Pipeline/ColumnTransformer box that is\n",
              "clickable and can be expanded/collapsed.\n",
              "- Pipeline and ColumnTransformer use this feature and define the default style\n",
              "- Estimators will overwrite some part of the style using the `sk-estimator` class\n",
              "*/\n",
              "\n",
              "/* Pipeline and ColumnTransformer style (default) */\n",
              "\n",
              "#sk-container-id-2 div.sk-toggleable {\n",
              "  /* Default theme specific background. It is overwritten whether we have a\n",
              "  specific estimator or a Pipeline/ColumnTransformer */\n",
              "  background-color: var(--sklearn-color-background);\n",
              "}\n",
              "\n",
              "/* Toggleable label */\n",
              "#sk-container-id-2 label.sk-toggleable__label {\n",
              "  cursor: pointer;\n",
              "  display: flex;\n",
              "  width: 100%;\n",
              "  margin-bottom: 0;\n",
              "  padding: 0.5em;\n",
              "  box-sizing: border-box;\n",
              "  text-align: center;\n",
              "  align-items: start;\n",
              "  justify-content: space-between;\n",
              "  gap: 0.5em;\n",
              "}\n",
              "\n",
              "#sk-container-id-2 label.sk-toggleable__label .caption {\n",
              "  font-size: 0.6rem;\n",
              "  font-weight: lighter;\n",
              "  color: var(--sklearn-color-text-muted);\n",
              "}\n",
              "\n",
              "#sk-container-id-2 label.sk-toggleable__label-arrow:before {\n",
              "  /* Arrow on the left of the label */\n",
              "  content: \"▸\";\n",
              "  float: left;\n",
              "  margin-right: 0.25em;\n",
              "  color: var(--sklearn-color-icon);\n",
              "}\n",
              "\n",
              "#sk-container-id-2 label.sk-toggleable__label-arrow:hover:before {\n",
              "  color: var(--sklearn-color-text);\n",
              "}\n",
              "\n",
              "/* Toggleable content - dropdown */\n",
              "\n",
              "#sk-container-id-2 div.sk-toggleable__content {\n",
              "  max-height: 0;\n",
              "  max-width: 0;\n",
              "  overflow: hidden;\n",
              "  text-align: left;\n",
              "  /* unfitted */\n",
              "  background-color: var(--sklearn-color-unfitted-level-0);\n",
              "}\n",
              "\n",
              "#sk-container-id-2 div.sk-toggleable__content.fitted {\n",
              "  /* fitted */\n",
              "  background-color: var(--sklearn-color-fitted-level-0);\n",
              "}\n",
              "\n",
              "#sk-container-id-2 div.sk-toggleable__content pre {\n",
              "  margin: 0.2em;\n",
              "  border-radius: 0.25em;\n",
              "  color: var(--sklearn-color-text);\n",
              "  /* unfitted */\n",
              "  background-color: var(--sklearn-color-unfitted-level-0);\n",
              "}\n",
              "\n",
              "#sk-container-id-2 div.sk-toggleable__content.fitted pre {\n",
              "  /* unfitted */\n",
              "  background-color: var(--sklearn-color-fitted-level-0);\n",
              "}\n",
              "\n",
              "#sk-container-id-2 input.sk-toggleable__control:checked~div.sk-toggleable__content {\n",
              "  /* Expand drop-down */\n",
              "  max-height: 200px;\n",
              "  max-width: 100%;\n",
              "  overflow: auto;\n",
              "}\n",
              "\n",
              "#sk-container-id-2 input.sk-toggleable__control:checked~label.sk-toggleable__label-arrow:before {\n",
              "  content: \"▾\";\n",
              "}\n",
              "\n",
              "/* Pipeline/ColumnTransformer-specific style */\n",
              "\n",
              "#sk-container-id-2 div.sk-label input.sk-toggleable__control:checked~label.sk-toggleable__label {\n",
              "  color: var(--sklearn-color-text);\n",
              "  background-color: var(--sklearn-color-unfitted-level-2);\n",
              "}\n",
              "\n",
              "#sk-container-id-2 div.sk-label.fitted input.sk-toggleable__control:checked~label.sk-toggleable__label {\n",
              "  background-color: var(--sklearn-color-fitted-level-2);\n",
              "}\n",
              "\n",
              "/* Estimator-specific style */\n",
              "\n",
              "/* Colorize estimator box */\n",
              "#sk-container-id-2 div.sk-estimator input.sk-toggleable__control:checked~label.sk-toggleable__label {\n",
              "  /* unfitted */\n",
              "  background-color: var(--sklearn-color-unfitted-level-2);\n",
              "}\n",
              "\n",
              "#sk-container-id-2 div.sk-estimator.fitted input.sk-toggleable__control:checked~label.sk-toggleable__label {\n",
              "  /* fitted */\n",
              "  background-color: var(--sklearn-color-fitted-level-2);\n",
              "}\n",
              "\n",
              "#sk-container-id-2 div.sk-label label.sk-toggleable__label,\n",
              "#sk-container-id-2 div.sk-label label {\n",
              "  /* The background is the default theme color */\n",
              "  color: var(--sklearn-color-text-on-default-background);\n",
              "}\n",
              "\n",
              "/* On hover, darken the color of the background */\n",
              "#sk-container-id-2 div.sk-label:hover label.sk-toggleable__label {\n",
              "  color: var(--sklearn-color-text);\n",
              "  background-color: var(--sklearn-color-unfitted-level-2);\n",
              "}\n",
              "\n",
              "/* Label box, darken color on hover, fitted */\n",
              "#sk-container-id-2 div.sk-label.fitted:hover label.sk-toggleable__label.fitted {\n",
              "  color: var(--sklearn-color-text);\n",
              "  background-color: var(--sklearn-color-fitted-level-2);\n",
              "}\n",
              "\n",
              "/* Estimator label */\n",
              "\n",
              "#sk-container-id-2 div.sk-label label {\n",
              "  font-family: monospace;\n",
              "  font-weight: bold;\n",
              "  display: inline-block;\n",
              "  line-height: 1.2em;\n",
              "}\n",
              "\n",
              "#sk-container-id-2 div.sk-label-container {\n",
              "  text-align: center;\n",
              "}\n",
              "\n",
              "/* Estimator-specific */\n",
              "#sk-container-id-2 div.sk-estimator {\n",
              "  font-family: monospace;\n",
              "  border: 1px dotted var(--sklearn-color-border-box);\n",
              "  border-radius: 0.25em;\n",
              "  box-sizing: border-box;\n",
              "  margin-bottom: 0.5em;\n",
              "  /* unfitted */\n",
              "  background-color: var(--sklearn-color-unfitted-level-0);\n",
              "}\n",
              "\n",
              "#sk-container-id-2 div.sk-estimator.fitted {\n",
              "  /* fitted */\n",
              "  background-color: var(--sklearn-color-fitted-level-0);\n",
              "}\n",
              "\n",
              "/* on hover */\n",
              "#sk-container-id-2 div.sk-estimator:hover {\n",
              "  /* unfitted */\n",
              "  background-color: var(--sklearn-color-unfitted-level-2);\n",
              "}\n",
              "\n",
              "#sk-container-id-2 div.sk-estimator.fitted:hover {\n",
              "  /* fitted */\n",
              "  background-color: var(--sklearn-color-fitted-level-2);\n",
              "}\n",
              "\n",
              "/* Specification for estimator info (e.g. \"i\" and \"?\") */\n",
              "\n",
              "/* Common style for \"i\" and \"?\" */\n",
              "\n",
              ".sk-estimator-doc-link,\n",
              "a:link.sk-estimator-doc-link,\n",
              "a:visited.sk-estimator-doc-link {\n",
              "  float: right;\n",
              "  font-size: smaller;\n",
              "  line-height: 1em;\n",
              "  font-family: monospace;\n",
              "  background-color: var(--sklearn-color-background);\n",
              "  border-radius: 1em;\n",
              "  height: 1em;\n",
              "  width: 1em;\n",
              "  text-decoration: none !important;\n",
              "  margin-left: 0.5em;\n",
              "  text-align: center;\n",
              "  /* unfitted */\n",
              "  border: var(--sklearn-color-unfitted-level-1) 1pt solid;\n",
              "  color: var(--sklearn-color-unfitted-level-1);\n",
              "}\n",
              "\n",
              ".sk-estimator-doc-link.fitted,\n",
              "a:link.sk-estimator-doc-link.fitted,\n",
              "a:visited.sk-estimator-doc-link.fitted {\n",
              "  /* fitted */\n",
              "  border: var(--sklearn-color-fitted-level-1) 1pt solid;\n",
              "  color: var(--sklearn-color-fitted-level-1);\n",
              "}\n",
              "\n",
              "/* On hover */\n",
              "div.sk-estimator:hover .sk-estimator-doc-link:hover,\n",
              ".sk-estimator-doc-link:hover,\n",
              "div.sk-label-container:hover .sk-estimator-doc-link:hover,\n",
              ".sk-estimator-doc-link:hover {\n",
              "  /* unfitted */\n",
              "  background-color: var(--sklearn-color-unfitted-level-3);\n",
              "  color: var(--sklearn-color-background);\n",
              "  text-decoration: none;\n",
              "}\n",
              "\n",
              "div.sk-estimator.fitted:hover .sk-estimator-doc-link.fitted:hover,\n",
              ".sk-estimator-doc-link.fitted:hover,\n",
              "div.sk-label-container:hover .sk-estimator-doc-link.fitted:hover,\n",
              ".sk-estimator-doc-link.fitted:hover {\n",
              "  /* fitted */\n",
              "  background-color: var(--sklearn-color-fitted-level-3);\n",
              "  color: var(--sklearn-color-background);\n",
              "  text-decoration: none;\n",
              "}\n",
              "\n",
              "/* Span, style for the box shown on hovering the info icon */\n",
              ".sk-estimator-doc-link span {\n",
              "  display: none;\n",
              "  z-index: 9999;\n",
              "  position: relative;\n",
              "  font-weight: normal;\n",
              "  right: .2ex;\n",
              "  padding: .5ex;\n",
              "  margin: .5ex;\n",
              "  width: min-content;\n",
              "  min-width: 20ex;\n",
              "  max-width: 50ex;\n",
              "  color: var(--sklearn-color-text);\n",
              "  box-shadow: 2pt 2pt 4pt #999;\n",
              "  /* unfitted */\n",
              "  background: var(--sklearn-color-unfitted-level-0);\n",
              "  border: .5pt solid var(--sklearn-color-unfitted-level-3);\n",
              "}\n",
              "\n",
              ".sk-estimator-doc-link.fitted span {\n",
              "  /* fitted */\n",
              "  background: var(--sklearn-color-fitted-level-0);\n",
              "  border: var(--sklearn-color-fitted-level-3);\n",
              "}\n",
              "\n",
              ".sk-estimator-doc-link:hover span {\n",
              "  display: block;\n",
              "}\n",
              "\n",
              "/* \"?\"-specific style due to the `<a>` HTML tag */\n",
              "\n",
              "#sk-container-id-2 a.estimator_doc_link {\n",
              "  float: right;\n",
              "  font-size: 1rem;\n",
              "  line-height: 1em;\n",
              "  font-family: monospace;\n",
              "  background-color: var(--sklearn-color-background);\n",
              "  border-radius: 1rem;\n",
              "  height: 1rem;\n",
              "  width: 1rem;\n",
              "  text-decoration: none;\n",
              "  /* unfitted */\n",
              "  color: var(--sklearn-color-unfitted-level-1);\n",
              "  border: var(--sklearn-color-unfitted-level-1) 1pt solid;\n",
              "}\n",
              "\n",
              "#sk-container-id-2 a.estimator_doc_link.fitted {\n",
              "  /* fitted */\n",
              "  border: var(--sklearn-color-fitted-level-1) 1pt solid;\n",
              "  color: var(--sklearn-color-fitted-level-1);\n",
              "}\n",
              "\n",
              "/* On hover */\n",
              "#sk-container-id-2 a.estimator_doc_link:hover {\n",
              "  /* unfitted */\n",
              "  background-color: var(--sklearn-color-unfitted-level-3);\n",
              "  color: var(--sklearn-color-background);\n",
              "  text-decoration: none;\n",
              "}\n",
              "\n",
              "#sk-container-id-2 a.estimator_doc_link.fitted:hover {\n",
              "  /* fitted */\n",
              "  background-color: var(--sklearn-color-fitted-level-3);\n",
              "}\n",
              "</style><div id=\"sk-container-id-2\" class=\"sk-top-container\"><div class=\"sk-text-repr-fallback\"><pre>RandomForestRegressor(random_state=42)</pre><b>In a Jupyter environment, please rerun this cell to show the HTML representation or trust the notebook. <br />On GitHub, the HTML representation is unable to render, please try loading this page with nbviewer.org.</b></div><div class=\"sk-container\" hidden><div class=\"sk-item\"><div class=\"sk-estimator fitted sk-toggleable\"><input class=\"sk-toggleable__control sk-hidden--visually\" id=\"sk-estimator-id-2\" type=\"checkbox\" checked><label for=\"sk-estimator-id-2\" class=\"sk-toggleable__label fitted sk-toggleable__label-arrow\"><div><div>RandomForestRegressor</div></div><div><a class=\"sk-estimator-doc-link fitted\" rel=\"noreferrer\" target=\"_blank\" href=\"https://scikit-learn.org/1.6/modules/generated/sklearn.ensemble.RandomForestRegressor.html\">?<span>Documentation for RandomForestRegressor</span></a><span class=\"sk-estimator-doc-link fitted\">i<span>Fitted</span></span></div></label><div class=\"sk-toggleable__content fitted\"><pre>RandomForestRegressor(random_state=42)</pre></div> </div></div></div></div>"
            ]
          },
          "metadata": {},
          "execution_count": 55
        }
      ]
    },
    {
      "cell_type": "code",
      "source": [
        "feature_importance = pd.DataFrame({\n",
        "    'Feature': X.columns,\n",
        "    'Importance': rf.feature_importances_\n",
        "}).sort_values(by='Importance', ascending=False)"
      ],
      "metadata": {
        "id": "Gtu8VpdYomRQ"
      },
      "execution_count": null,
      "outputs": []
    },
    {
      "cell_type": "code",
      "source": [
        "print(\"\\n Feature Engineering Completed Successfully!\\n\")\n",
        "print(\"Feature Importance:\\n\", feature_importance)"
      ],
      "metadata": {
        "colab": {
          "base_uri": "https://localhost:8080/"
        },
        "id": "xf7sB1KfomOL",
        "outputId": "5b567839-1f77-4be5-937c-28f4d10a14b0"
      },
      "execution_count": null,
      "outputs": [
        {
          "output_type": "stream",
          "name": "stdout",
          "text": [
            "\n",
            " Feature Engineering Completed Successfully!\n",
            "\n",
            "Feature Importance:\n",
            "           Feature  Importance\n",
            "4  Vehicles_Lag_1    0.944465\n",
            "0            Hour    0.021030\n",
            "5  Vehicles_Lag_2    0.011060\n",
            "6  Vehicles_Lag_3    0.010891\n",
            "2           Month    0.006658\n",
            "1       DayOfWeek    0.004888\n",
            "3       IsWeekend    0.001009\n"
          ]
        }
      ]
    },
    {
      "cell_type": "code",
      "source": [
        "plt.figure(figsize=(8, 5))\n",
        "sns.barplot(x='Importance', y='Feature', data=feature_importance, palette='viridis')\n",
        "plt.title(\"Feature Importance (Random Forest)\")\n",
        "plt.show()"
      ],
      "metadata": {
        "colab": {
          "base_uri": "https://localhost:8080/",
          "height": 556
        },
        "id": "Ff4ZDP0OomLN",
        "outputId": "4060b8ba-1850-430b-f2c2-1a714f27dfea"
      },
      "execution_count": null,
      "outputs": [
        {
          "output_type": "stream",
          "name": "stderr",
          "text": [
            "FutureWarning: \n",
            "\n",
            "Passing `palette` without assigning `hue` is deprecated and will be removed in v0.14.0. Assign the `y` variable to `hue` and set `legend=False` for the same effect.\n",
            "\n"
          ]
        },
        {
          "output_type": "display_data",
          "data": {
            "text/plain": [
              "<Figure size 800x500 with 1 Axes>"
            ],
            "image/png": "[encoded data removed]"
          },
          "metadata": {}
        }
      ]
    },
    {
      "cell_type": "code",
      "source": [
        "data.to_csv(\"Engineered_Uber_Traffic.csv\", index=False)"
      ],
      "metadata": {
        "id": "xMVajq_NomH4"
      },
      "execution_count": null,
      "outputs": []
    },
    {
      "cell_type": "code",
      "source": [
        "# STEP 4: Data Collection & Integration\n",
        "traffic = pd.read_csv(\"Engineered_Uber_Traffic.csv\")\n",
        "traffic['DateTime'] = pd.to_datetime(traffic['DateTime'])"
      ],
      "metadata": {
        "id": "WuW85_vOol7j"
      },
      "execution_count": null,
      "outputs": []
    },
    {
      "cell_type": "code",
      "source": [
        "import requests\n",
        "\n",
        "API_KEY = \"cde372be06389b0955e7bc1d3fa63bf8\"\n",
        "CITY = \"New Delhi\"\n",
        "BASE_URL = \"https://api.openweathermap.org/data/2.5/weather\"\n",
        "\n",
        "# --- Fetch Weather Data Function ---\n",
        "def fetch_weather(city, api_key):\n",
        "    \"\"\"\n",
        "    Fetch current weather data from OpenWeather API.\n",
        "    You can modify this function to use 'One Call API' for hourly data if available.\n",
        "    \"\"\"\n",
        "    url = f\"{BASE_URL}?q={city}&appid={api_key}&units=metric\"\n",
        "    response = requests.get(url)\n",
        "\n",
        "    if response.status_code == 200:\n",
        "        data = response.json()\n",
        "        weather_info = {\n",
        "            'DateTime': datetime.now(),\n",
        "            'temp': data['main']['temp'],\n",
        "            'rhum': data['main']['humidity'],\n",
        "            'wspd': data['wind']['speed'],\n",
        "            'prcp': data.get('rain', {}).get('1h', 0.0)\n",
        "        }\n",
        "        return pd.DataFrame([weather_info])\n",
        "    else:\n",
        "        print(f\" Failed to fetch weather data: {response.status_code}\")\n",
        "        print(response.json())\n",
        "        return pd.DataFrame()\n",
        "\n",
        "# --- Fetch Sample Weather Data for Date Range ---\n",
        "print(\"\\n🌦 Fetching weather data from OpenWeather API...\")\n",
        "weather_records = []"
      ],
      "metadata": {
        "colab": {
          "base_uri": "https://localhost:8080/"
        },
        "id": "KyUWgAhcpQWr",
        "outputId": "3435002b-0732-41cd-b664-9fb216e408fb"
      },
      "execution_count": null,
      "outputs": [
        {
          "output_type": "stream",
          "name": "stdout",
          "text": [
            "\n",
            "🌦 Fetching weather data from OpenWeather API...\n"
          ]
        }
      ]
    },
    {
      "cell_type": "code",
      "source": [
        "for date in traffic['DateTime'].dt.date.unique()[:5]:  # limit to 5 days for demo\n",
        "    df = fetch_weather(CITY, API_KEY)\n",
        "    df['DateTime'] = pd.to_datetime(date)\n",
        "    weather_records.append(df)\n",
        "    print(f\" Weather fetched for {date}\")\n",
        "\n",
        "weather = pd.concat(weather_records, ignore_index=True)"
      ],
      "metadata": {
        "colab": {
          "base_uri": "https://localhost:8080/"
        },
        "id": "3GACIa3p8ePl",
        "outputId": "93b2806f-d68f-4403-fc5d-33d6679d8c49"
      },
      "execution_count": null,
      "outputs": [
        {
          "output_type": "stream",
          "name": "stdout",
          "text": [
            " Weather fetched for 2015-11-01\n",
            " Weather fetched for 2015-11-02\n",
            " Weather fetched for 2015-11-03\n",
            " Weather fetched for 2015-11-04\n",
            " Weather fetched for 2015-11-05\n"
          ]
        }
      ]
    },
    {
      "cell_type": "code",
      "source": [
        "if not os.path.exists(\"events.csv\"):\n",
        "    print(\"\\n⚠️ No events.csv found — creating dummy event data...\\n\")\n",
        "    np.random.seed(42)\n",
        "    dummy_dates = pd.date_range(\n",
        "        start=traffic['DateTime'].min(),\n",
        "        end=traffic['DateTime'].max(),\n",
        "        freq='7D'\n",
        "    )\n",
        "    dummy_events = pd.DataFrame({\n",
        "        'EventDateTime': dummy_dates,\n",
        "        'EventType': np.random.choice(['Holiday', 'Concert', 'Sports'], len(dummy_dates))\n",
        "    })\n",
        "    dummy_events.to_csv(\"events.csv\", index=False)\n",
        "    print(\" Dummy events.csv created with sample events.\\n\")"
      ],
      "metadata": {
        "id": "75Q658el8dPd"
      },
      "execution_count": null,
      "outputs": []
    },
    {
      "cell_type": "code",
      "source": [
        "def load_event_data(event_csv_path):\n",
        "    events = pd.read_csv(event_csv_path)\n",
        "    events['EventDateTime'] = pd.to_datetime(events['EventDateTime'])\n",
        "    return events\n",
        "\n",
        "events = load_event_data(\"events.csv\")"
      ],
      "metadata": {
        "id": "aNt8mdGfpQK-"
      },
      "execution_count": null,
      "outputs": []
    },
    {
      "cell_type": "code",
      "source": [
        "# Integrate All Data\n",
        "def integrate_data(traffic_df, weather_df, events_df):\n",
        "    merged = traffic_df.merge(\n",
        "        weather_df,\n",
        "        how='left',\n",
        "        on='DateTime'\n",
        "    )\n",
        "    events_df['EventHour'] = events_df['EventDateTime'].dt.floor('h')\n",
        "    event_hours = set(events_df['EventHour'])\n",
        "    merged['IsEvent'] = merged['DateTime'].apply(lambda dt: 1 if dt.floor('h') in event_hours else 0)\n",
        "    return merged\n",
        "\n",
        "merged = integrate_data(traffic, weather, events)"
      ],
      "metadata": {
        "id": "7N4O6rEIpQIW"
      },
      "execution_count": null,
      "outputs": []
    },
    {
      "cell_type": "code",
      "source": [
        "# Clean Integrated Data\n",
        "def clean_integrated(df):\n",
        "    df = df.drop_duplicates()\n",
        "    weather_cols = ['temp', 'prcp', 'rhum', 'wspd']\n",
        "    for col in weather_cols:\n",
        "        if col in df.columns:\n",
        "            df[col] = df[col].interpolate(method='linear')\n",
        "    df = df.dropna(subset=['Vehicles'])\n",
        "    return df\n",
        "\n",
        "merged_clean = clean_integrated(merged)"
      ],
      "metadata": {
        "id": "gLeP2VTY9axg"
      },
      "execution_count": null,
      "outputs": []
    },
    {
      "cell_type": "code",
      "source": [
        "# Scale Features\n",
        "def scale_features(df, cols_to_scale):\n",
        "    scaler = StandardScaler()\n",
        "    df[cols_to_scale] = scaler.fit_transform(df[cols_to_scale])\n",
        "    return df\n",
        "\n",
        "cols_to_scale = ['temp', 'prcp', 'rhum', 'wspd']\n",
        "merged_scaled = scale_features(merged_clean, cols_to_scale)"
      ],
      "metadata": {
        "id": "7G91tbBo9auI"
      },
      "execution_count": null,
      "outputs": []
    },
    {
      "cell_type": "code",
      "source": [
        "merged_scaled.to_csv(\"Merged_Traffic_Weather_Event.csv\", index=False)\n",
        "\n",
        "print(\"\\n Data Integration Completed Successfully!\")\n",
        "print(\"Final Dataset Shape:\", merged_scaled.shape)\n",
        "print(merged_scaled.head())"
      ],
      "metadata": {
        "id": "gT0fZvQI9aqy",
        "colab": {
          "base_uri": "https://localhost:8080/"
        },
        "outputId": "0b43a1c7-d16b-4117-bb4b-40a63f4fe243"
      },
      "execution_count": null,
      "outputs": [
        {
          "output_type": "stream",
          "name": "stdout",
          "text": [
            "\n",
            " Data Integration Completed Successfully!\n",
            "Final Dataset Shape: (48108, 17)\n",
            "   Junction            DateTime  Vehicles  Vehicles_Normalized  Hour  Day  \\\n",
            "0         1 2015-11-01 03:00:00         7             0.033520     3    1   \n",
            "1         1 2015-11-01 04:00:00         9             0.044693     4    1   \n",
            "2         1 2015-11-01 05:00:00         6             0.027933     5    1   \n",
            "3         1 2015-11-01 06:00:00         9             0.044693     6    1   \n",
            "4         1 2015-11-01 07:00:00         8             0.039106     7    1   \n",
            "\n",
            "   DayOfWeek  Month  IsWeekend  Vehicles_Lag_1  Vehicles_Lag_2  \\\n",
            "0          6     11          1            10.0            13.0   \n",
            "1          6     11          1             7.0            10.0   \n",
            "2          6     11          1             9.0             7.0   \n",
            "3          6     11          1             6.0             9.0   \n",
            "4          6     11          1             9.0             6.0   \n",
            "\n",
            "   Vehicles_Lag_3  temp  rhum  wspd  prcp  IsEvent  \n",
            "0            15.0   NaN   NaN   NaN   NaN        1  \n",
            "1            13.0   NaN   NaN   NaN   NaN        0  \n",
            "2            10.0   NaN   NaN   NaN   NaN        0  \n",
            "3             7.0   NaN   NaN   NaN   NaN        0  \n",
            "4             9.0   NaN   NaN   NaN   NaN        0  \n"
          ]
        }
      ]
    },
    {
      "cell_type": "code",
      "source": [
        "# STEP 5: Model Development & Training\n",
        "from sklearn.model_selection import TimeSeriesSplit, GridSearchCV\n",
        "from sklearn.ensemble import GradientBoostingRegressor\n",
        "from sklearn.metrics import mean_absolute_error, mean_squared_error, r2_score\n",
        "\n",
        "import statsmodels.api as sm\n",
        "import tensorflow as tf\n",
        "from tensorflow.keras.models import Sequential\n",
        "from tensorflow.keras.layers import LSTM, Dense\n",
        "\n",
        "# Load final merged dataset\n",
        "data = pd.read_csv(\"Merged_Traffic_Weather_Event.csv\")\n",
        "data['DateTime'] = pd.to_datetime(data['DateTime'])\n",
        "data = data.sort_values('DateTime').reset_index(drop=True)\n",
        "\n",
        "# Features and target\n",
        "target = 'Vehicles'\n",
        "features = ['Hour','DayOfWeek','Month','IsWeekend','IsEvent',\n",
        "            'Vehicles_Lag_1','Vehicles_Lag_2','Vehicles_Lag_3',\n",
        "            'temp','prcp','rhum','wspd']\n",
        "\n",
        "X = data[features]\n",
        "y = data[target]\n",
        "\n",
        "# Time-based train-validation split\n",
        "split_index = int(len(data)*0.8)\n",
        "X_train, X_val = X[:split_index], X[split_index:]\n",
        "y_train, y_val = y[:split_index], y[split_index:]\n",
        "\n",
        "print(\"Train shape:\", X_train.shape, \"Validation shape:\", X_val.shape)"
      ],
      "metadata": {
        "id": "o-xKjUnN9anZ",
        "colab": {
          "base_uri": "https://localhost:8080/"
        },
        "outputId": "59b20c21-6d2e-48f0-cb1a-c963b7304159"
      },
      "execution_count": null,
      "outputs": [
        {
          "output_type": "stream",
          "name": "stdout",
          "text": [
            "Train shape: (38486, 12) Validation shape: (9622, 12)\n"
          ]
        }
      ]
    },
    {
      "cell_type": "code",
      "source": [
        "X_train_filled = X_train.fillna(X_train.median())\n",
        "X_val_filled = X_val.fillna(X_train.median())"
      ],
      "metadata": {
        "id": "l1lilZT6BIaM"
      },
      "execution_count": null,
      "outputs": []
    },
    {
      "cell_type": "code",
      "source": [
        "# Initialize Gradient Boosting\n",
        "gbr = GradientBoostingRegressor(random_state=42)\n",
        "\n",
        "# Hyperparameter tuning\n",
        "param_grid = {\n",
        "    'n_estimators': [100, 200],\n",
        "    'max_depth': [3, 5],\n",
        "    'learning_rate': [0.01, 0.1]\n",
        "}\n",
        "\n",
        "tscv = TimeSeriesSplit(n_splits=5)\n",
        "grid = GridSearchCV(gbr, param_grid, cv=tscv, scoring='neg_mean_squared_error', n_jobs=-1)\n",
        "\n",
        "# Train the model\n",
        "grid.fit(X_train_filled, y_train)\n",
        "\n",
        "# Best model and predictions\n",
        "best_gbr = grid.best_estimator_\n",
        "y_pred_gbr = best_gbr.predict(X_val_filled)\n",
        "\n",
        "mae = mean_absolute_error(y_val, y_pred_gbr)\n",
        "rmse = np.sqrt(mean_squared_error(y_val, y_pred_gbr))\n",
        "r2 = r2_score(y_val, y_pred_gbr)\n",
        "\n",
        "print(\"\\n Gradient Boosting Results\")\n",
        "print(\"Best Hyperparameters:\", grid.best_params_)\n",
        "print(\"MAE:\", mae)\n",
        "print(\"RMSE:\", rmse)\n",
        "print(\"R2:\", r2)"
      ],
      "metadata": {
        "id": "VmzHHKNtBIP4",
        "colab": {
          "base_uri": "https://localhost:8080/"
        },
        "outputId": "23944741-5310-4b8a-bd67-286f3130da5b"
      },
      "execution_count": null,
      "outputs": [
        {
          "output_type": "stream",
          "name": "stdout",
          "text": [
            "\n",
            " Gradient Boosting Results\n",
            "Best Hyperparameters: {'learning_rate': 0.1, 'max_depth': 5, 'n_estimators': 100}\n",
            "MAE: 3.3662828872795703\n",
            "RMSE: 5.495816077405295\n",
            "R2: 0.9592571463291762\n"
          ]
        }
      ]
    },
    {
      "cell_type": "code",
      "source": [
        "# ARIMA requires univariate series\n",
        "train_series = y_train\n",
        "val_series = y_val\n",
        "\n",
        "# Fit ARIMA (p,d,q)\n",
        "arima_model = sm.tsa.ARIMA(train_series, order=(5,1,0))\n",
        "arima_result = arima_model.fit()\n",
        "\n",
        "# Forecast\n",
        "forecast = arima_result.forecast(steps=len(val_series))\n",
        "\n",
        "# Evaluation\n",
        "mae = mean_absolute_error(val_series, forecast)\n",
        "rmse = np.sqrt(mean_squared_error(val_series, forecast))\n",
        "r2 = r2_score(val_series, forecast)\n",
        "\n",
        "print(\"\\n ARIMA Results\")\n",
        "print(\"MAE:\", mae)\n",
        "print(\"RMSE:\", rmse)\n",
        "print(\"R2:\", r2)\n"
      ],
      "metadata": {
        "id": "25HWRdaxBIBz",
        "colab": {
          "base_uri": "https://localhost:8080/"
        },
        "outputId": "c1c41622-39ed-4c67-fe5a-2713ed66b736"
      },
      "execution_count": null,
      "outputs": [
        {
          "output_type": "stream",
          "name": "stdout",
          "text": [
            "\n",
            " ARIMA Results\n",
            "MAE: 20.135478239423268\n",
            "RMSE: 27.372738930756537\n",
            "R2: -0.01070304550927137\n"
          ]
        }
      ]
    },
    {
      "cell_type": "code",
      "source": [
        "from tensorflow.keras.models import Sequential\n",
        "from tensorflow.keras.layers import LSTM, Dense\n",
        "\n",
        "# Ensure no NaNs in data\n",
        "X_train_scaled = np.nan_to_num(X_train_scaled)\n",
        "X_val_scaled = np.nan_to_num(X_val_scaled)\n",
        "y_train_scaled = np.nan_to_num(y_train_scaled)\n",
        "y_val_scaled = np.nan_to_num(y_val_scaled)\n",
        "\n",
        "# Create sequences for LSTM\n",
        "def create_sequences(X, y, time_steps=3):\n",
        "    X_seq, y_seq = [], []\n",
        "    for i in range(time_steps, len(X)):\n",
        "        X_seq.append(X[i-time_steps:i])\n",
        "        y_seq.append(y[i])\n",
        "    return np.array(X_seq), np.array(y_seq)\n",
        "\n",
        "time_steps = 3\n",
        "X_train_seq, y_train_seq = create_sequences(X_train_scaled, y_train_scaled, time_steps)\n",
        "X_val_seq, y_val_seq = create_sequences(X_val_scaled, y_val_scaled, time_steps)\n",
        "\n",
        "# LSTM Model\n",
        "lstm_model = Sequential()\n",
        "lstm_model.add(LSTM(50, input_shape=(X_train_seq.shape[1], X_train_seq.shape[2])))\n",
        "lstm_model.add(Dense(1))\n",
        "lstm_model.compile(optimizer='adam', loss='mse')\n",
        "\n",
        "history = lstm_model.fit(X_train_seq, y_train_seq, epochs=50, batch_size=32,\n",
        "                         validation_data=(X_val_seq, y_val_seq), verbose=1)\n",
        "\n",
        "# Predict and inverse scale\n",
        "y_pred_lstm_scaled = lstm_model.predict(X_val_seq)\n",
        "y_pred_lstm = scaler_y.inverse_transform(y_pred_lstm_scaled)\n",
        "y_val_lstm = scaler_y.inverse_transform(y_val_seq)\n",
        "\n",
        "# Evaluation\n",
        "mae = mean_absolute_error(y_val_lstm, y_pred_lstm)\n",
        "rmse = np.sqrt(mean_squared_error(y_val_lstm, y_pred_lstm))\n",
        "r2 = r2_score(y_val_lstm, y_pred_lstm)\n",
        "\n",
        "print(\"\\n LSTM Results\")\n",
        "print(\"MAE:\", mae)\n",
        "print(\"RMSE:\", rmse)\n",
        "print(\"R2:\", r2)"
      ],
      "metadata": {
        "id": "oyoL34ZH9akW"
      },
      "execution_count": null,
      "outputs": []
    },
    {
      "cell_type": "code",
      "source": [
        "from sklearn.pipeline import Pipeline\n",
        "from sklearn.impute import SimpleImputer\n",
        "from sklearn.model_selection import TimeSeriesSplit\n",
        "from sklearn.metrics import mean_absolute_error, mean_squared_error\n",
        "import numpy as np\n",
        "\n",
        "# Time-based CV results\n",
        "tscv = TimeSeriesSplit(n_splits=5)\n",
        "mae_scores, rmse_scores = [], []\n",
        "\n",
        "for train_index, val_index in tscv.split(X):\n",
        "    X_tr, X_vl = X.iloc[train_index], X.iloc[val_index]\n",
        "    y_tr, y_vl = y.iloc[train_index], y.iloc[val_index]\n",
        "\n",
        "    # Pipeline with imputer + Gradient Boosting\n",
        "    pipeline = Pipeline([\n",
        "        ('imputer', SimpleImputer(strategy='mean')),\n",
        "        ('gbr', GradientBoostingRegressor(**grid.best_params_, random_state=42))\n",
        "    ])\n",
        "\n",
        "    pipeline.fit(X_tr, y_tr)\n",
        "    y_pred = pipeline.predict(X_vl)\n",
        "\n",
        "    mae_scores.append(mean_absolute_error(y_vl, y_pred))\n",
        "\n",
        "    # Compute RMSE manually\n",
        "    rmse = np.sqrt(mean_squared_error(y_vl, y_pred))\n",
        "    rmse_scores.append(rmse)\n",
        "\n",
        "print(\"\\nTime-based CV results\")\n",
        "print(\"MAE:\", np.mean(mae_scores))\n",
        "print(\"RMSE:\", np.mean(rmse_scores))\n",
        "\n"
      ],
      "metadata": {
        "id": "AnpaxZcrpQFa",
        "colab": {
          "base_uri": "https://localhost:8080/"
        },
        "outputId": "bca7e847-9639-4ba3-b3fd-2d9c1f954a50"
      },
      "execution_count": null,
      "outputs": [
        {
          "output_type": "stream",
          "name": "stdout",
          "text": [
            "\n",
            "Time-based CV results\n",
            "MAE: 3.0765739634001585\n",
            "RMSE: 5.021557465010048\n"
          ]
        }
      ]
    },
    {
      "cell_type": "code",
      "source": [
        "import matplotlib.pyplot as plt\n",
        "\n",
        "residuals = y_val - y_pred_gbr\n",
        "plt.figure(figsize=(8,4))\n",
        "plt.hist(residuals, bins=30)\n",
        "plt.title(\"Residual Distribution (Gradient Boosting)\")\n",
        "plt.show()\n"
      ],
      "metadata": {
        "id": "Wsbdy234Fhzn",
        "colab": {
          "base_uri": "https://localhost:8080/",
          "height": 391
        },
        "outputId": "c3f706dd-9423-4c6c-bc47-9eda02e99eba"
      },
      "execution_count": null,
      "outputs": [
        {
          "output_type": "display_data",
          "data": {
            "text/plain": [
              "<Figure size 800x400 with 1 Axes>"
            ],
            "image/png": "[encoded data removed]"
          },
          "metadata": {}
        }
      ]
    },
    {
      "cell_type": "code",
      "source": [],
      "metadata": {
        "id": "eddEAIvpHlAG"
      },
      "execution_count": null,
      "outputs": []
    }
  ]
}